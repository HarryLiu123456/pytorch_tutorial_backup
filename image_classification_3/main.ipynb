{
 "cells": [
  {
   "cell_type": "markdown",
   "metadata": {},
   "source": [
    "# 3.1 预训练模型原理\n",
    "* <u>每个小单元格若未经说明均各自进行</u>"
   ]
  },
  {
   "cell_type": "markdown",
   "metadata": {},
   "source": [
    "## 3.1.1 状态字典与保存整个模型"
   ]
  },
  {
   "cell_type": "markdown",
   "metadata": {},
   "source": [
    "* 测试权值相等输出相等"
   ]
  },
  {
   "cell_type": "code",
   "execution_count": null,
   "metadata": {},
   "outputs": [],
   "source": [
    "import torch\n",
    "\n",
    "#   加载模型\n",
    "model = torch.hub.load('pytorch/vision:v0.6.0', 'resnet18', pretrained=True)\n",
    "\n",
    "#   随机产生输入\n",
    "x = torch.rand(1, 3, 224, 224)\n",
    "\n",
    "#   将模型设置为评估模式\n",
    "#   先调用评估模式让dropout和batchnorm层处于评估状态\n",
    "model.eval()\n",
    "\n",
    "#   将随机生成张量其输入模型中，查看输出的前5个元素\n",
    "#   no_grad方法关闭梯度计算\n",
    "#   reshape（-1）将张量铺平\n",
    "with torch.no_grad():\n",
    "    print(model(x).reshape(-1)[:5])\n",
    "\n",
    "#   这里直接保存模型\n",
    "torch.save(model, 'model.pth')\n",
    "\n",
    "#   直接加载模型\n",
    "new_model = torch.load('model.pth')\n",
    "\n",
    "#   或者重新创建模型，然后加载参数\n",
    "#   load_state_dict方法中有一个参数strict用于控制是否严格让模型参数对应，默认为true，此时如果不一致会抛出错误\n",
    "#   new_model.load_state_dict(state_dict.state_dict())\n",
    "\n",
    "#   评估模式保证输出一致\n",
    "new_model.eval()\n",
    "\n",
    "with torch.no_grad():\n",
    "    print(new_model(x).reshape(-1)[:5])"
   ]
  },
  {
   "cell_type": "markdown",
   "metadata": {},
   "source": [
    "## 3.1.2 通过设备保存与只保存状态字典"
   ]
  },
  {
   "cell_type": "markdown",
   "metadata": {},
   "source": [
    "* 对比状态字典所在设备"
   ]
  },
  {
   "cell_type": "code",
   "execution_count": null,
   "metadata": {},
   "outputs": [],
   "source": [
    "import torch\n",
    "\n",
    "#   当调用load时，会将状态字典保存在保存时所在的设备上\n",
    "#   当调用load_state_dict时，会将状态字典产生的模型权重保存在当前模型存在的设备上\n",
    "SAVE_PATH = 'model.pth'\n",
    "device = torch.device('cpu')\n",
    "\n",
    "net = torch.hub.load('pytorch/vision:v0.6.0', 'resnet18', pretrained=True)\n",
    "net.to(device)\n",
    "\n",
    "sd = net.state_dict()\n",
    "print('Save state dict device = %s' % (sd['conv1.weight'].device))\n",
    "\n",
    "torch.save(net.state_dict(), SAVE_PATH)\n",
    "\n",
    "#   可以指定map_location参数来指定加载的设备，默认为保存时的设备\n",
    "#   sd = torch.load(SAVE_PATH, map_location='cpu')\n",
    "sd = torch.load(SAVE_PATH)\n",
    "print('Load state dict device = %s' % (sd['conv1.weight'].device))"
   ]
  },
  {
   "cell_type": "markdown",
   "metadata": {},
   "source": [
    "---"
   ]
  },
  {
   "cell_type": "markdown",
   "metadata": {},
   "source": [
    "# 3.2 加载imagenet预训练模型"
   ]
  },
  {
   "cell_type": "code",
   "execution_count": null,
   "metadata": {},
   "outputs": [],
   "source": [
    "#   再torchvision.models包中有很多模型\n",
    "import torchvision.models as models\n",
    "\n",
    "#   默认pretrained是false\n",
    "resnet18 = models.resnet18()\n",
    "alexnet = models.alexnet()\n",
    "vgg16 = models.vgg16()\n",
    "squeezenet = models.squeezenet1_0()\n",
    "densenet = models.densenet161()\n",
    "inception = models.inception_v3()\n",
    "googlenet = models.googlenet()\n",
    "shufflenet = models.shufflenet_v2_x1_0()\n",
    "mobilenet = models.mobilenet_v2()\n",
    "resnext50_32x4d = models.resnext50_32x4d()\n",
    "wide_resnet50_2 = models.wide_resnet50_2()\n",
    "mnasnet = models.mnasnet1_0()"
   ]
  },
  {
   "cell_type": "code",
   "execution_count": null,
   "metadata": {},
   "outputs": [],
   "source": [
    "import torchvision.models as models\n",
    "\n",
    "resnet18 = models.resnet18(pretrained=True)\n",
    "print(resnet18)"
   ]
  },
  {
   "cell_type": "markdown",
   "metadata": {},
   "source": [
    "---"
   ]
  },
  {
   "cell_type": "markdown",
   "metadata": {},
   "source": [
    "# 3.3 准备数据"
   ]
  },
  {
   "cell_type": "markdown",
   "metadata": {},
   "source": [
    "* <u>以下3.3、3.4、3.5代码连续进行</u>"
   ]
  },
  {
   "cell_type": "markdown",
   "metadata": {},
   "source": [
    "* 下载数据集hymenoptera，结构如下\n",
    "* 下载链接：https://www.kaggle.com/datasets/thedatasith/hymenoptera?resource=download\n",
    "```\n",
    "hymenoptera_data\n",
    "|--train\n",
    "    |--ants     # 124张\n",
    "    |--bees     # 121张\n",
    "|--val\n",
    "    |--ants     # 70张\n",
    "    |--bees     # 83张\n",
    "```\n",
    "* 6个文件夹，398个文件"
   ]
  },
  {
   "cell_type": "markdown",
   "metadata": {},
   "source": [
    "## 3.3.1 加载数据集"
   ]
  },
  {
   "cell_type": "markdown",
   "metadata": {},
   "source": [
    "* 首先使用torchvision.datasets.ImageFolder类快速封装数据集\n",
    "\n",
    "* 以下是这个类的声明\n",
    "```python\n",
    "torchvision.datasets.ImageFolder(root, \n",
    "                                transform = None, \n",
    "                                target_transform = None, \n",
    "                                loader = <function default_loader> , \n",
    "                                is_valid_file=None)\n",
    "```\n",
    "* 数据集中图片大小不一致，因此要对图片进行裁剪，归一化提升效果"
   ]
  },
  {
   "cell_type": "code",
   "execution_count": null,
   "metadata": {},
   "outputs": [],
   "source": [
    "import torchvision\n",
    "\n",
    "#   在训练集上：扩充、归一化\n",
    "#   在验证集上：归一化\n",
    "data_transforms = {\n",
    "    'train': torchvision.transforms.Compose([\n",
    "        #   随即裁剪一个区域，然后调整大小\n",
    "        torchvision.transforms.RandomResizedCrop(224),\n",
    "        #   随机水平翻转\n",
    "        torchvision.transforms.RandomHorizontalFlip(),\n",
    "        torchvision.transforms.ToTensor(),\n",
    "        torchvision.transforms.Normalize([0.485, 0.456, 0.406], [0.229, 0.224, 0.225])\n",
    "    ]),\n",
    "    'val': torchvision.transforms.Compose([\n",
    "        torchvision.transforms.Resize(256),\n",
    "        torchvision.transforms.CenterCrop(224),\n",
    "        torchvision.transforms.ToTensor(),\n",
    "        torchvision.transforms.Normalize([0.485, 0.456, 0.406], [0.229, 0.224, 0.225])\n",
    "    ])\n",
    "}\n",
    "data_dir = 'hymenoptera'\n",
    "image_datasets = {x: torchvision.datasets.ImageFolder(root=data_dir + '/' + x, transform=data_transforms[x]) for x in\n",
    "                  ['train', 'val']}\n",
    "print(image_datasets['train'].classes)"
   ]
  },
  {
   "cell_type": "markdown",
   "metadata": {},
   "source": [
    "* 生成dataloader字典"
   ]
  },
  {
   "cell_type": "code",
   "execution_count": null,
   "metadata": {},
   "outputs": [],
   "source": [
    "import torch\n",
    "\n",
    "#   生成数据加载器\n",
    "train_loader = torch.utils.data.DataLoader(image_datasets['train'], batch_size=4, shuffle=True)\n",
    "val_loader = torch.utils.data.DataLoader(image_datasets['val'], batch_size=4, shuffle=True)\n",
    "dataloader = {'train': train_loader, 'val': val_loader}"
   ]
  },
  {
   "cell_type": "markdown",
   "metadata": {},
   "source": [
    "## 3.3.2 使用matplotlib可视化数据"
   ]
  },
  {
   "cell_type": "markdown",
   "metadata": {},
   "source": [
    "* transforms中图片维度[H,W,C]值[0,255]，转换成张量维度[C,H,W]值[0,1]，且经过了归一化\n",
    "* matplotlib需要各维度含义是[H,W,C]，且不需要归一化\n",
    "* 所以需要反向归一化操作一遍"
   ]
  },
  {
   "cell_type": "code",
   "execution_count": null,
   "metadata": {},
   "outputs": [],
   "source": [
    "import numpy as np\n",
    "import matplotlib.pyplot as plt\n",
    "import torch\n",
    "\n",
    "def imshow(inp, title=None):\n",
    "    #   转换维度\n",
    "    inp = inp.numpy().transpose((1, 2, 0))\n",
    "    mean = np.array([0.485, 0.456, 0.406])\n",
    "    std = np.array([0.229, 0.224, 0.225])\n",
    "    inp = std * inp + mean\n",
    "    #   将inp限制在0-1之间\n",
    "    inp = np.clip(inp, 0, 1)\n",
    "    plt.imshow(inp)\n",
    "    if title is not None:\n",
    "        plt.title(title)\n",
    "    plt.pause(0.001)\n",
    "\n",
    "#   类别列表\n",
    "class_type = ['ants', 'bees']"
   ]
  },
  {
   "cell_type": "code",
   "execution_count": null,
   "metadata": {},
   "outputs": [],
   "source": [
    "#   获取一个batch的数据\n",
    "inputs, classes = next(iter(train_loader))\n",
    "\n",
    "#   make_grid拼接时会添加会框框，因此分辨率变化了\n",
    "out = torchvision.utils.make_grid(inputs)\n",
    "\n",
    "imshow(out, title=[class_type[x] for x in classes])"
   ]
  },
  {
   "cell_type": "markdown",
   "metadata": {},
   "source": [
    "# 3.4开始训练"
   ]
  },
  {
   "cell_type": "markdown",
   "metadata": {},
   "source": [
    "* 将训练写成一个函数，参数是网络模型、损失函数，返回最高准确率和对应模型对象\n",
    "```python\n",
    "def train_model(model, criterion, optimizer, scheduler, epoch_num):\n",
    "    Args:\n",
    "        model\n",
    "        criterion   损失函数\n",
    "        optimizer   优化器\n",
    "        scheduler   学习率调度器\n",
    "        epoch_num\n",
    "    Returns:\n",
    "        model\n",
    "        best_acc\n",
    "```"
   ]
  },
  {
   "cell_type": "code",
   "execution_count": null,
   "metadata": {},
   "outputs": [],
   "source": [
    "import copy\n",
    "from tqdm import tqdm\n",
    "\n",
    "def train_model(model, criterion, optimizer, scheduler, epoch_num, device):\n",
    "    best_acc = 0.0\n",
    "    best_model = None\n",
    "    running_loss = 0.0\n",
    "    running_corrects = 0\n",
    "    for epoch in tqdm(range(epoch_num)):\n",
    "        #   训练集和验证集交替进行前向传播，先训练集后验证集\n",
    "        for phase in ['train','val']:\n",
    "            for inputs, labels in dataloader[phase]:\n",
    "                inputs = inputs.to(device)\n",
    "                labels = labels.to(device)\n",
    "                #   根据阶段决定是否启用梯度计算\n",
    "                with torch.set_grad_enabled(phase == 'train'):\n",
    "                    outputs = model(inputs)\n",
    "                    _, preds = torch.max(outputs, 1)\n",
    "                    loss = criterion(outputs, labels)\n",
    "                    #   反向传播只在训练阶段进行\n",
    "                    if phase == 'train':\n",
    "                        #   梯度清零,因为梯度是累加的\n",
    "                        optimizer.zero_grad()\n",
    "                        loss.backward()\n",
    "                        optimizer.step()\n",
    "                    #   计算损失\n",
    "                    running_loss += loss.item() * inputs.size(0)\n",
    "                    running_corrects += torch.sum(preds == labels.data)\n",
    "            epoch_loss = running_loss / len(image_datasets[phase])\n",
    "            epoch_acc = running_corrects / len(image_datasets[phase])\n",
    "            #   打印\n",
    "            print('Epoch %d %s loss: %.3f acc: %.3f' % (epoch, phase, epoch_loss, epoch_acc))\n",
    "            #   重置\n",
    "            running_loss = 0.0\n",
    "            running_corrects = 0\n",
    "            \n",
    "            #   如果是验证集，更新最佳模型\n",
    "            if phase == 'val' and epoch_acc > best_acc:\n",
    "                best_acc = epoch_acc\n",
    "                best_model = copy.deepcopy(model)\n",
    "                \n",
    "        scheduler.step()\n",
    "\n",
    "    return best_model, best_acc"
   ]
  },
  {
   "cell_type": "markdown",
   "metadata": {},
   "source": [
    "# 3.5使用torchvision微调模型"
   ]
  },
  {
   "cell_type": "markdown",
   "metadata": {},
   "source": [
    "* 微调指使用与训练模型，包含以下三个操作\n",
    "* 1. 替换输出层\n",
    "* 2. 训练输出层\n",
    "* 3. 训练输出层之前的层\n",
    "* 这里首先先展示普通训练"
   ]
  },
  {
   "cell_type": "code",
   "execution_count": null,
   "metadata": {},
   "outputs": [],
   "source": [
    "import torch\n",
    "import torchvision.models as models\n",
    "\n",
    "device = torch.device('cuda:0' if torch.cuda.is_available() else 'cpu')\n",
    "\n",
    "model = models.resnet18(pretrained=True)\n",
    "\n",
    "#   替换输出层\n",
    "num_features = model.fc.in_features\n",
    "model.fc = torch.nn.Linear(num_features, 2)\n",
    "\n",
    "model = model.to(device)\n",
    "\n",
    "#   损失函数为交叉熵\n",
    "criterion = torch.nn.CrossEntropyLoss()\n",
    "#   优化器为SGD，所有参数参与训练\n",
    "optimizer = torch.optim.SGD(model.parameters(), lr=0.001, momentum=0.9)\n",
    "#   每7个epoch，学习率乘以0.1\n",
    "scheduler = torch.optim.lr_scheduler.StepLR(optimizer, step_size=7, gamma=0.1)\n",
    "\n",
    "best_acc, best_model = train_model(model, criterion, optimizer, scheduler, 5, device)"
   ]
  },
  {
   "cell_type": "markdown",
   "metadata": {},
   "source": [
    "# 3.6观察模型预测结果"
   ]
  },
  {
   "cell_type": "code",
   "execution_count": null,
   "metadata": {},
   "outputs": [],
   "source": [
    "def visualize_model(model, num_images=6):\n",
    "    # 变量中为布尔类型，用于记录模型是否处于训练状态\n",
    "    was_training = model.training\n",
    "    model.eval()\n",
    "    # 用于指示什么时候停止\n",
    "    images_so_far = 0\n",
    "    # 创建一个新的图形\n",
    "    fig = plt.figure()\n",
    "\n",
    "    with torch.no_grad():\n",
    "        for i, (inputs, labels) in enumerate(dataloader['val']):\n",
    "            inputs = inputs.to(device)\n",
    "            labels = labels.to(device)\n",
    "\n",
    "            outputs = model(inputs)\n",
    "            _, preds = torch.max(outputs, 1)\n",
    "\n",
    "            for j in range(inputs.size()[0]):\n",
    "                images_so_far += 1\n",
    "                # 创建一个子图\n",
    "                # 参数指定了子图的布局，num_images//2表示子图的行数，2表示每行的列数\n",
    "                # images_so_far表示当前子图的索引\n",
    "                ax = plt.subplot(num_images//2, 2, images_so_far)\n",
    "                # 关闭了当前子图的坐标轴\n",
    "                ax.axis('off')\n",
    "                # 设置了当前子图的标题\n",
    "                ax.set_title('predicted: {}'.format(class_type[preds[j]]))\n",
    "                # 显示当前子图的图像\n",
    "                imshow(inputs.cpu().data[j])\n",
    "\n",
    "                if images_so_far == num_images:\n",
    "                    model.train(mode=was_training)\n",
    "                    return\n",
    "        #  恢复模型初始状态，model.train(mode=False) == model.eval()\n",
    "        model.train(mode=was_training)"
   ]
  },
  {
   "cell_type": "code",
   "execution_count": null,
   "metadata": {},
   "outputs": [],
   "source": [
    "visualize_model(best_model)"
   ]
  },
  {
   "cell_type": "markdown",
   "metadata": {},
   "source": [
    "# 3.7固定模型的参数\n",
    "* 微调/迁移/预训练模型，让输出层之外的层不参与训练，看作一个特征提取器，只训练输出层\n",
    "* 利用参数的requires_grad设置为false"
   ]
  },
  {
   "cell_type": "code",
   "execution_count": null,
   "metadata": {},
   "outputs": [],
   "source": [
    "import torch\n",
    "import torchvision\n",
    "\n",
    "device = torch.device('cuda:0' if torch.cuda.is_available() else 'cpu')\n",
    "\n",
    "model = torchvision.models.resnet18(pretrained=True)\n",
    "for param in model.parameters():\n",
    "    param.requires_grad = False\n",
    "num_ftrs = model.fc.in_features\n",
    "model.fc = torch.nn.Linear(num_ftrs, 2)\n",
    "model = model.to(device)\n",
    "\n",
    "criterion = torch.nn.CrossEntropyLoss()\n",
    "optimizer = torch.optim.SGD(model.fc.parameters(), lr=0.001, momentum=0.9)\n",
    "scheduler = torch.optim.lr_scheduler.StepLR(optimizer, step_size=7, gamma=0.1)"
   ]
  },
  {
   "cell_type": "code",
   "execution_count": null,
   "metadata": {},
   "outputs": [],
   "source": [
    "model, _ = train_model(model, criterion, optimizer, scheduler, 5, device)"
   ]
  },
  {
   "cell_type": "code",
   "execution_count": null,
   "metadata": {},
   "outputs": [],
   "source": [
    "visualize_model(model)"
   ]
  },
  {
   "cell_type": "markdown",
   "metadata": {},
   "source": [
    "# 3.8使用tensorboard可视化训练过程\n",
    "* tensorboard可以查看训练过程中训练集与验证集中的损失值、准确率变化情况\n",
    "* 需在训练过程中加入如下代码"
   ]
  },
  {
   "cell_type": "code",
   "execution_count": null,
   "metadata": {},
   "outputs": [],
   "source": [
    "from torch.utils.tensorboard import SummaryWriter\n",
    "\n",
    "def train_with_board(model, criterion, optimizer, scheduler, num_epochs, device):\n",
    "    best_acc = 0.0\n",
    "    best_model = None\n",
    "    running_loss = 0.0\n",
    "    running_corrects = 0\n",
    "    \n",
    "    writer = SummaryWriter()\n",
    "    ep_losses, ep_accs = [], []\n",
    "\n",
    "    for epoch in tqdm(range(num_epochs)):\n",
    "        for phase in ['train','val']:\n",
    "            for inputs, labels in dataloader[phase]:\n",
    "                inputs = inputs.to(device)\n",
    "                labels = labels.to(device)\n",
    "\n",
    "                with torch.set_grad_enabled(phase == 'train'):\n",
    "                    outputs = model(inputs)\n",
    "                    _, preds = torch.max(outputs, 1)\n",
    "                    loss = criterion(outputs, labels)\n",
    "\n",
    "                    if phase == 'train':\n",
    "                        optimizer.zero_grad()\n",
    "                        loss.backward()\n",
    "                        optimizer.step()\n",
    "\n",
    "                    running_loss += loss.item() * inputs.size(0)\n",
    "                    running_corrects += torch.sum(preds == labels.data)\n",
    "            epoch_loss = running_loss / len(image_datasets[phase])\n",
    "            epoch_acc = running_corrects / len(image_datasets[phase])\n",
    "            ep_losses.append(epoch_loss)\n",
    "            ep_accs.append(epoch_acc)\n",
    "\n",
    "            print('Epoch %d %s loss: %.3f acc: %.3f' % (epoch, phase, epoch_loss, epoch_acc))\n",
    "\n",
    "            running_loss = 0.0\n",
    "            running_corrects = 0\n",
    "            if phase == 'val' and epoch_acc > best_acc:\n",
    "                best_acc = epoch_acc\n",
    "                best_model = copy.deepcopy(model)\n",
    "        \n",
    "        writer.add_scalars('loss', {'train': ep_losses[-2], 'val': ep_losses[-1]}, global_step=epoch)\n",
    "        writer.add_scalars('acc', {'train': ep_accs[-2], 'val': ep_accs[-1]}, global_step=epoch)\n",
    "\n",
    "        scheduler.step()\n",
    "        \n",
    "    writer.close()\n",
    "\n",
    "    return best_model, best_acc"
   ]
  },
  {
   "cell_type": "code",
   "execution_count": null,
   "metadata": {},
   "outputs": [],
   "source": [
    "import torch\n",
    "import torchvision\n",
    "\n",
    "device = torch.device('cuda:0' if torch.cuda.is_available() else 'cpu')\n",
    "\n",
    "model = torchvision.models.resnet18(pretrained=True)\n",
    "for param in model.parameters():\n",
    "    param.requires_grad = False\n",
    "num_ftrs = model.fc.in_features\n",
    "model.fc = torch.nn.Linear(num_ftrs, 2)\n",
    "model = model.to(device)\n",
    "\n",
    "criterion = torch.nn.CrossEntropyLoss()\n",
    "optimizer = torch.optim.SGD(model.fc.parameters(), lr=0.001, momentum=0.9)\n",
    "scheduler = torch.optim.lr_scheduler.StepLR(optimizer, step_size=7, gamma=0.1)"
   ]
  },
  {
   "cell_type": "code",
   "execution_count": null,
   "metadata": {},
   "outputs": [],
   "source": [
    "_, _ = train_with_board(model, criterion, optimizer, scheduler, 5, device)"
   ]
  },
  {
   "cell_type": "markdown",
   "metadata": {},
   "source": [
    "* notebook有点过于慢了"
   ]
  },
  {
   "cell_type": "code",
   "execution_count": 15,
   "metadata": {},
   "outputs": [
    {
     "name": "stdout",
     "output_type": "stream",
     "text": [
      "^C\n"
     ]
    }
   ],
   "source": [
    "!tensorboard --logdir runs"
   ]
  }
 ],
 "metadata": {
  "kernelspec": {
   "display_name": "pytorch",
   "language": "python",
   "name": "python3"
  },
  "language_info": {
   "codemirror_mode": {
    "name": "ipython",
    "version": 3
   },
   "file_extension": ".py",
   "mimetype": "text/x-python",
   "name": "python",
   "nbconvert_exporter": "python",
   "pygments_lexer": "ipython3",
   "version": "3.10.13"
  }
 },
 "nbformat": 4,
 "nbformat_minor": 2
}
