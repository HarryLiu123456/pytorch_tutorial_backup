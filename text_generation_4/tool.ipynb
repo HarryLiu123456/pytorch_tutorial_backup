{
 "cells": [
  {
   "cell_type": "markdown",
   "metadata": {},
   "source": [
    "* 人名处理(废弃)"
   ]
  },
  {
   "cell_type": "code",
   "execution_count": null,
   "metadata": {},
   "outputs": [],
   "source": [
    "results = []\n",
    "with open('Chinese.txt','r',encoding='utf-8') as f:\n",
    "    lines = f.readlines()\n",
    "    for line in lines:\n",
    "        if '-' in line:\n",
    "            start = line.find('-')\n",
    "            end = line.find('/', start)\n",
    "            target = line[start+1:end]\n",
    "            results.append(target)\n",
    "\n",
    "with open('Chinese_result.txt','w',encoding='unicode') as f:\n",
    "    for result in results:\n",
    "        f.write(result+'\\n"
   ]
  }
 ],
 "metadata": {
  "language_info": {
   "name": "python"
  }
 },
 "nbformat": 4,
 "nbformat_minor": 2
}
