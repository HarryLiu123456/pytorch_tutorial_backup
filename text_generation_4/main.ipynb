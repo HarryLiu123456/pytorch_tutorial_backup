{
 "cells": [
  {
   "cell_type": "markdown",
   "metadata": {},
   "source": [
    "# 第4章 文本生成\n",
    "\n",
    "```shell\n",
    "windows no-cuda\n",
    "conda install python==3.10\n",
    "conda install pytorch==2.2.0 torchvision==0.17.0 torchaudio==2.2.0 cpuonly -c pytorch\n",
    "conda install ipykernel\n",
    "conda install matplotlib\n",
    "conda install tqdm\n",
    "conda install tensorboard\n",
    "```"
   ]
  },
  {
   "cell_type": "markdown",
   "metadata": {},
   "source": [
    "## 4.1RNN原理及结构\n",
    "### 4.1.1经典RNN结构\n",
    "* 输入和输出序列必须等长\n",
    "### 4.1.2 n VS 1 RNN结构\n",
    "* 只有最后一个输出\n",
    "* 用于情感分类或判断类别\n",
    "### 4.1.3 1 VS n RNN结构\n",
    "* 输入只有单个\n",
    "* 两种策略\n",
    "*   1. 只有第一个输入\n",
    "*   2. 每一个输入都是一样的\n",
    "### 4.1.4 n VS m RNN结构\n",
    "* 这个模型有个特定的名字，Encoder-Decoder，或者Seq2Seq"
   ]
  },
  {
   "cell_type": "markdown",
   "metadata": {},
   "source": [
    "## 明确任务\n",
    "* 18个txt文本的小数据集，一个文本代表一种语言类别\n",
    "* 数据集下载链接如下：https://download.pytorch.org/tutorial/data.zip\n",
    "* 文件提取及字符处理"
   ]
  },
  {
   "cell_type": "code",
   "execution_count": 2,
   "metadata": {},
   "outputs": [
    {
     "name": "stdout",
     "output_type": "stream",
     "text": [
      "# categories: 18 ['Arabic', 'Chinese', 'Czech', 'Dutch', 'English', 'French', 'German', 'Greek', 'Irish', 'Italian', 'Japanese', 'Korean', 'Polish', 'Portuguese', 'Russian', 'Scottish', 'Spanish', 'Vietnamese']\n",
      "O'Neal\n"
     ]
    }
   ],
   "source": [
    "from __future__ import unicode_literals, print_function, division\n",
    "from io import open\n",
    "import glob\n",
    "import os\n",
    "import unicodedata\n",
    "import string\n",
    "\n",
    "# ASCII码全部 字母 以及 部分标点符号\n",
    "all_letters = string.ascii_letters + \" .,;'\"\n",
    "n_letters = len(all_letters)\n",
    "\n",
    "# 得到路径列表\n",
    "def findFiles(path): \n",
    "    return glob.glob(path)\n",
    "\n",
    "# 将Unicode字符串转换为纯ASCII\n",
    "# \n",
    "def unicodeToAscii(s):\n",
    "    return ''.join(\n",
    "        # 每个字符都被分解成基字符和附加的变音符号（如果有的话）\n",
    "        # 例如，字符\"é\"会被分解成\"e\"和一个变音符号\n",
    "        # 操作后仍是一个字符串\n",
    "        # for操作遍历字符串\n",
    "        c for c in unicodedata.normalize('NFD', s)\n",
    "        # 不保留类别为\"Mn\"（非间距标记）的字符，即变音符号\n",
    "        if unicodedata.category(c) != 'Mn'\n",
    "        # 并且只保留ASCII字符\n",
    "        and c in all_letters\n",
    "    )\n",
    "\n",
    "# 读取文件并分成几行\n",
    "def readLines(filename):\n",
    "    lines = open(filename, encoding='utf-8').read().strip().split('\\n')\n",
    "    return [unicodeToAscii(line) for line in lines]\n",
    "\n",
    "# 构建category_lines字典，每种语言的名字列表\n",
    "category_lines = {}\n",
    "all_categories = []\n",
    "for filename in findFiles('data/names/*.txt'):\n",
    "    # 得到类别即国家名\n",
    "    category = os.path.splitext(os.path.basename(filename))[0]\n",
    "    all_categories.append(category)\n",
    "    lines = readLines(filename)\n",
    "    category_lines[category] = lines\n",
    "\n",
    "n_categories = len(all_categories)\n",
    "\n",
    "if n_categories == 0:\n",
    "    raise RuntimeError('Data not found. Make sure that you downloaded data '\n",
    "        'from https://download.pytorch.org/tutorial/data.zip and extract it to '\n",
    "        'the current directory.')\n",
    "\n",
    "print('# categories:', n_categories, all_categories)\n",
    "print(unicodeToAscii(\"O'Néàl\"))"
   ]
  },
  {
   "cell_type": "markdown",
   "metadata": {},
   "source": [
    "* 获取成对训练数据"
   ]
  },
  {
   "cell_type": "code",
   "execution_count": null,
   "metadata": {},
   "outputs": [],
   "source": []
  }
 ],
 "metadata": {
  "kernelspec": {
   "display_name": "pytorch",
   "language": "python",
   "name": "python3"
  },
  "language_info": {
   "codemirror_mode": {
    "name": "ipython",
    "version": 3
   },
   "file_extension": ".py",
   "mimetype": "text/x-python",
   "name": "python",
   "nbconvert_exporter": "python",
   "pygments_lexer": "ipython3",
   "version": "3.10.13"
  }
 },
 "nbformat": 4,
 "nbformat_minor": 2
}
